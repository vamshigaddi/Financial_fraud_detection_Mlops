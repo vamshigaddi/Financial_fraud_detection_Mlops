{
 "cells": [
  {
   "cell_type": "code",
   "execution_count": 1,
   "metadata": {},
   "outputs": [],
   "source": [
    "import pandas as pd"
   ]
  },
  {
   "cell_type": "code",
   "execution_count": 2,
   "metadata": {},
   "outputs": [
    {
     "data": {
      "text/html": [
       "<div>\n",
       "<style scoped>\n",
       "    .dataframe tbody tr th:only-of-type {\n",
       "        vertical-align: middle;\n",
       "    }\n",
       "\n",
       "    .dataframe tbody tr th {\n",
       "        vertical-align: top;\n",
       "    }\n",
       "\n",
       "    .dataframe thead th {\n",
       "        text-align: right;\n",
       "    }\n",
       "</style>\n",
       "<table border=\"1\" class=\"dataframe\">\n",
       "  <thead>\n",
       "    <tr style=\"text-align: right;\">\n",
       "      <th></th>\n",
       "      <th>timestamp</th>\n",
       "      <th>user_id</th>\n",
       "      <th>amount</th>\n",
       "      <th>location</th>\n",
       "      <th>device_type</th>\n",
       "      <th>is_fraud</th>\n",
       "      <th>age</th>\n",
       "      <th>income</th>\n",
       "      <th>debt</th>\n",
       "      <th>credit_score</th>\n",
       "    </tr>\n",
       "  </thead>\n",
       "  <tbody>\n",
       "    <tr>\n",
       "      <th>0</th>\n",
       "      <td>2023-12-15 02:48:24</td>\n",
       "      <td>3cbf0b8a-c799-4c0e-9782-89272ab8fa2b</td>\n",
       "      <td>998.99</td>\n",
       "      <td>Grantfurt</td>\n",
       "      <td>Mobile</td>\n",
       "      <td>0</td>\n",
       "      <td>56</td>\n",
       "      <td>42524.98</td>\n",
       "      <td>8394.05</td>\n",
       "      <td>655</td>\n",
       "    </tr>\n",
       "    <tr>\n",
       "      <th>1</th>\n",
       "      <td>2023-10-30 11:08:37</td>\n",
       "      <td>3675ed98-6863-4bae-b089-6f0db2df006b</td>\n",
       "      <td>241.39</td>\n",
       "      <td>Kimberlychester</td>\n",
       "      <td>Tablet</td>\n",
       "      <td>0</td>\n",
       "      <td>52</td>\n",
       "      <td>69884.04</td>\n",
       "      <td>28434.06</td>\n",
       "      <td>395</td>\n",
       "    </tr>\n",
       "    <tr>\n",
       "      <th>2</th>\n",
       "      <td>2023-11-21 05:19:35</td>\n",
       "      <td>4be1043f-20ee-4ac5-a689-b25c6a1de50c</td>\n",
       "      <td>836.42</td>\n",
       "      <td>Gutierrezville</td>\n",
       "      <td>Desktop</td>\n",
       "      <td>0</td>\n",
       "      <td>58</td>\n",
       "      <td>126953.62</td>\n",
       "      <td>39121.78</td>\n",
       "      <td>496</td>\n",
       "    </tr>\n",
       "    <tr>\n",
       "      <th>3</th>\n",
       "      <td>2023-11-07 00:03:25</td>\n",
       "      <td>cad0b3c9-099f-479b-8043-6d5ecb4e1467</td>\n",
       "      <td>612.74</td>\n",
       "      <td>Markside</td>\n",
       "      <td>Desktop</td>\n",
       "      <td>0</td>\n",
       "      <td>19</td>\n",
       "      <td>128650.70</td>\n",
       "      <td>39652.48</td>\n",
       "      <td>612</td>\n",
       "    </tr>\n",
       "    <tr>\n",
       "      <th>4</th>\n",
       "      <td>2023-04-02 14:12:23</td>\n",
       "      <td>b6ebea7d-ba62-41d7-b042-3978a23fef8b</td>\n",
       "      <td>135.55</td>\n",
       "      <td>Anthonyshire</td>\n",
       "      <td>Tablet</td>\n",
       "      <td>0</td>\n",
       "      <td>59</td>\n",
       "      <td>102020.39</td>\n",
       "      <td>7439.81</td>\n",
       "      <td>302</td>\n",
       "    </tr>\n",
       "  </tbody>\n",
       "</table>\n",
       "</div>"
      ],
      "text/plain": [
       "             timestamp                               user_id  amount  \\\n",
       "0  2023-12-15 02:48:24  3cbf0b8a-c799-4c0e-9782-89272ab8fa2b  998.99   \n",
       "1  2023-10-30 11:08:37  3675ed98-6863-4bae-b089-6f0db2df006b  241.39   \n",
       "2  2023-11-21 05:19:35  4be1043f-20ee-4ac5-a689-b25c6a1de50c  836.42   \n",
       "3  2023-11-07 00:03:25  cad0b3c9-099f-479b-8043-6d5ecb4e1467  612.74   \n",
       "4  2023-04-02 14:12:23  b6ebea7d-ba62-41d7-b042-3978a23fef8b  135.55   \n",
       "\n",
       "          location device_type  is_fraud  age     income      debt  \\\n",
       "0        Grantfurt      Mobile         0   56   42524.98   8394.05   \n",
       "1  Kimberlychester      Tablet         0   52   69884.04  28434.06   \n",
       "2   Gutierrezville     Desktop         0   58  126953.62  39121.78   \n",
       "3         Markside     Desktop         0   19  128650.70  39652.48   \n",
       "4     Anthonyshire      Tablet         0   59  102020.39   7439.81   \n",
       "\n",
       "   credit_score  \n",
       "0           655  \n",
       "1           395  \n",
       "2           496  \n",
       "3           612  \n",
       "4           302  "
      ]
     },
     "execution_count": 2,
     "metadata": {},
     "output_type": "execute_result"
    }
   ],
   "source": [
    "df = pd.read_csv(r'C:\\Users\\vamsh\\OneDrive\\Desktop\\Mlops_Financial\\data\\fraud_detection_dataset.csv')\n",
    "df.head()"
   ]
  },
  {
   "cell_type": "code",
   "execution_count": 3,
   "metadata": {},
   "outputs": [
    {
     "name": "stdout",
     "output_type": "stream",
     "text": [
      "<class 'pandas.core.frame.DataFrame'>\n",
      "RangeIndex: 2000000 entries, 0 to 1999999\n",
      "Data columns (total 10 columns):\n",
      " #   Column        Dtype  \n",
      "---  ------        -----  \n",
      " 0   timestamp     object \n",
      " 1   user_id       object \n",
      " 2   amount        float64\n",
      " 3   location      object \n",
      " 4   device_type   object \n",
      " 5   is_fraud      int64  \n",
      " 6   age           int64  \n",
      " 7   income        float64\n",
      " 8   debt          float64\n",
      " 9   credit_score  int64  \n",
      "dtypes: float64(3), int64(3), object(4)\n",
      "memory usage: 152.6+ MB\n"
     ]
    }
   ],
   "source": [
    "df.info()"
   ]
  },
  {
   "cell_type": "code",
   "execution_count": 5,
   "metadata": {},
   "outputs": [
    {
     "data": {
      "text/plain": [
       "timestamp       0\n",
       "user_id         0\n",
       "amount          0\n",
       "location        0\n",
       "device_type     0\n",
       "is_fraud        0\n",
       "age             0\n",
       "income          0\n",
       "debt            0\n",
       "credit_score    0\n",
       "dtype: int64"
      ]
     },
     "execution_count": 5,
     "metadata": {},
     "output_type": "execute_result"
    }
   ],
   "source": [
    "df.isnull().sum()"
   ]
  },
  {
   "cell_type": "code",
   "execution_count": 8,
   "metadata": {},
   "outputs": [
    {
     "data": {
      "text/plain": [
       "np.int64(0)"
      ]
     },
     "execution_count": 8,
     "metadata": {},
     "output_type": "execute_result"
    }
   ],
   "source": [
    "df.duplicated().sum()"
   ]
  },
  {
   "cell_type": "code",
   "execution_count": 9,
   "metadata": {},
   "outputs": [
    {
     "data": {
      "text/plain": [
       "location\n",
       "East Michael        1713\n",
       "Lake Michael        1702\n",
       "New Michael         1626\n",
       "Port Michael        1624\n",
       "West Michael        1604\n",
       "                    ... \n",
       "New Jeanetteport       1\n",
       "South Bradyshire       1\n",
       "Lake Kylieshire        1\n",
       "Lake Tonyastad         1\n",
       "New Clintonview        1\n",
       "Name: count, Length: 104592, dtype: int64"
      ]
     },
     "execution_count": 9,
     "metadata": {},
     "output_type": "execute_result"
    }
   ],
   "source": [
    "df['location'].value_counts()"
   ]
  },
  {
   "cell_type": "code",
   "execution_count": 10,
   "metadata": {},
   "outputs": [
    {
     "data": {
      "text/plain": [
       "Index(['timestamp', 'user_id', 'amount', 'location', 'device_type', 'is_fraud',\n",
       "       'age', 'income', 'debt', 'credit_score'],\n",
       "      dtype='object')"
      ]
     },
     "execution_count": 10,
     "metadata": {},
     "output_type": "execute_result"
    }
   ],
   "source": [
    "df.columns"
   ]
  },
  {
   "cell_type": "code",
   "execution_count": 13,
   "metadata": {},
   "outputs": [
    {
     "data": {
      "text/plain": [
       "np.int64(18)"
      ]
     },
     "execution_count": 13,
     "metadata": {},
     "output_type": "execute_result"
    }
   ],
   "source": [
    "df['age'].min()"
   ]
  },
  {
   "cell_type": "code",
   "execution_count": 14,
   "metadata": {},
   "outputs": [
    {
     "data": {
      "text/plain": [
       "np.int64(70)"
      ]
     },
     "execution_count": 14,
     "metadata": {},
     "output_type": "execute_result"
    }
   ],
   "source": [
    "df['age'].max()"
   ]
  },
  {
   "cell_type": "code",
   "execution_count": 15,
   "metadata": {},
   "outputs": [
    {
     "data": {
      "text/plain": [
       "np.float64(10.0)"
      ]
     },
     "execution_count": 15,
     "metadata": {},
     "output_type": "execute_result"
    }
   ],
   "source": [
    "df['amount'].min()"
   ]
  },
  {
   "cell_type": "code",
   "execution_count": 16,
   "metadata": {},
   "outputs": [
    {
     "data": {
      "text/plain": [
       "np.float64(4999.99)"
      ]
     },
     "execution_count": 16,
     "metadata": {},
     "output_type": "execute_result"
    }
   ],
   "source": [
    "df['amount'].max()"
   ]
  },
  {
   "cell_type": "code",
   "execution_count": 17,
   "metadata": {},
   "outputs": [
    {
     "data": {
      "text/plain": [
       "(np.float64(20000.09), np.float64(149999.96))"
      ]
     },
     "execution_count": 17,
     "metadata": {},
     "output_type": "execute_result"
    }
   ],
   "source": [
    "df['income'].min(), df['income'].max()"
   ]
  },
  {
   "cell_type": "code",
   "execution_count": 18,
   "metadata": {},
   "outputs": [
    {
     "data": {
      "text/plain": [
       "(np.int64(300), np.int64(850))"
      ]
     },
     "execution_count": 18,
     "metadata": {},
     "output_type": "execute_result"
    }
   ],
   "source": [
    "df['credit_score'].min(),df['credit_score'].max()"
   ]
  },
  {
   "cell_type": "code",
   "execution_count": 19,
   "metadata": {},
   "outputs": [
    {
     "data": {
      "text/plain": [
       "(np.float64(0.04), np.float64(49999.98))"
      ]
     },
     "execution_count": 19,
     "metadata": {},
     "output_type": "execute_result"
    }
   ],
   "source": [
    "df['debt'].min(), df['debt'].max()"
   ]
  },
  {
   "cell_type": "code",
   "execution_count": 20,
   "metadata": {},
   "outputs": [
    {
     "data": {
      "text/plain": [
       "array(['Mobile', 'Tablet', 'Desktop'], dtype=object)"
      ]
     },
     "execution_count": 20,
     "metadata": {},
     "output_type": "execute_result"
    }
   ],
   "source": [
    "df['device_type'].unique()"
   ]
  },
  {
   "cell_type": "code",
   "execution_count": 29,
   "metadata": {},
   "outputs": [
    {
     "name": "stdout",
     "output_type": "stream",
     "text": [
      "104592\n"
     ]
    }
   ],
   "source": [
    "import json\n",
    "location_data = df['location'].unique().tolist()\n",
    "print(len(location_data))\n",
    "\n",
    "with open('locations_data.json','w') as file:\n",
    "    json.dump(location_data,file)"
   ]
  },
  {
   "cell_type": "code",
   "execution_count": 25,
   "metadata": {},
   "outputs": [
    {
     "name": "stdout",
     "output_type": "stream",
     "text": [
      "['Mobile', 'Tablet', 'Desktop']\n"
     ]
    }
   ],
   "source": [
    "device_data = df ['device_type'].unique().tolist()\n",
    "print(device_data)\n",
    "\n",
    "with open('device_data.json','w') as file:\n",
    "    json.dump(device_data,file)"
   ]
  },
  {
   "cell_type": "code",
   "execution_count": null,
   "metadata": {},
   "outputs": [],
   "source": [
    "amount\tlocation\tdevice_type\tis_fraud\tage\tincome\tdebt\tcredit_score"
   ]
  }
 ],
 "metadata": {
  "kernelspec": {
   "display_name": "myvenv",
   "language": "python",
   "name": "python3"
  },
  "language_info": {
   "codemirror_mode": {
    "name": "ipython",
    "version": 3
   },
   "file_extension": ".py",
   "mimetype": "text/x-python",
   "name": "python",
   "nbconvert_exporter": "python",
   "pygments_lexer": "ipython3",
   "version": "3.11.7"
  }
 },
 "nbformat": 4,
 "nbformat_minor": 2
}
